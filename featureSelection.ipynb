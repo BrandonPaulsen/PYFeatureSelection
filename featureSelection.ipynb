{
 "cells": [
  {
   "cell_type": "code",
   "execution_count": 1,
   "id": "04c93202-d0b2-493f-995e-768746702587",
   "metadata": {},
   "outputs": [],
   "source": [
    "import numpy as np\n",
    "from random import sample\n",
    "def loadData(fileName):\n",
    "    return np.loadtxt(fileName, dtype=float)"
   ]
  },
  {
   "cell_type": "code",
   "execution_count": 2,
   "id": "aff74422-a217-47f4-b441-7711f1d26c97",
   "metadata": {},
   "outputs": [],
   "source": [
    "data = np.loadtxt(\"CS170_Small_Data__123.txt\", dtype=float)"
   ]
  },
  {
   "cell_type": "code",
   "execution_count": 3,
   "id": "6a3f71fa-5565-4be2-b11f-f1b143097873",
   "metadata": {},
   "outputs": [],
   "source": [
    "def nearestNeighbor(data,instance,features):\n",
    "    restrictedData = data[:,features]\n",
    "    restrictedInstance = instance[features]\n",
    "    df = restrictedData[0]-restrictedInstance\n",
    "    minDistance = np.dot(df,df)\n",
    "    minIndex = 0\n",
    "    for [index, row] in enumerate(restrictedData):\n",
    "        if not np.array_equal(row, restrictedInstance):\n",
    "            df = row-restrictedInstance\n",
    "            distance = np.dot(df,df)\n",
    "            if distance < minDistance:\n",
    "                minDistance = distance\n",
    "                minIndex = index\n",
    "    return data[minIndex][0]"
   ]
  },
  {
   "cell_type": "code",
   "execution_count": 4,
   "id": "f31d1fe5-7fb8-4255-bbe1-7362f55c6a90",
   "metadata": {},
   "outputs": [],
   "source": [
    "def leaveOneOut(data, features):\n",
    "    correct = 0\n",
    "    total = 0\n",
    "    for row in data:\n",
    "        total = total+1\n",
    "        if row[0] == nearestNeighbor(data,row,features):\n",
    "            correct = correct+1\n",
    "    return correct/total"
   ]
  },
  {
   "cell_type": "code",
   "execution_count": 8,
   "id": "ea7603cd-f1f5-486c-9dae-20b1a30dd95c",
   "metadata": {},
   "outputs": [],
   "source": [
    "def forwardSelection(data):\n",
    "    features = list(range(1,len(data[0])))\n",
    "    usedFeatures = []\n",
    "    accuracies = []\n",
    "    while len(usedFeatures) < len(features):\n",
    "        bestAccuracy = -1\n",
    "        bestFeature = -1\n",
    "        for feature in features:\n",
    "            if feature not in usedFeatures:\n",
    "                newFeatures = usedFeatures.copy()\n",
    "                newFeatures.append(feature)\n",
    "                accuracy = leaveOneOut(data,newFeatures)\n",
    "                print(f\"\\tAccuracy using {newFeatures} was {accuracy:.2%}\")\n",
    "                if accuracy > bestAccuracy:\n",
    "                    bestAccuracy = accuracy\n",
    "                    bestFeature = feature\n",
    "        usedFeatures.append(bestFeature)\n",
    "        print(f\"Best accuracy with {len(usedFeatures)} features ({usedFeatures}) was {bestAccuracy:.2%}\")\n",
    "        accuracies.append(bestAccuracy)\n",
    "    print(f\"Accuracies were {accuracies}\")"
   ]
  },
  {
   "cell_type": "code",
   "execution_count": 9,
   "id": "0701e1a2-785d-4eeb-b217-0d92015b4597",
   "metadata": {},
   "outputs": [],
   "source": [
    "def backwardSelection(data):\n",
    "    usedFeatures = list(range(1,len(data[0])))\n",
    "    print(f\"Best accuracy with {len(usedFeatures)} features ({usedFeatures}) was {leaveOneOut(data,usedFeatures):.2%}\")\n",
    "    accuracies = []\n",
    "    while len(usedFeatures) > 1:\n",
    "        bestFeatures = []\n",
    "        bestAccuracy = -1\n",
    "        for feature in usedFeatures:\n",
    "            newFeatures = usedFeatures.copy()\n",
    "            newFeatures.remove(feature)\n",
    "            accuracy = leaveOneOut(data,newFeatures)\n",
    "            print(f\"\\tAccuracy using {newFeatures} was {accuracy:.2%}\")\n",
    "            if accuracy > bestAccuracy:\n",
    "                bestAccuracy = accuracy\n",
    "                bestFeatures = newFeatures\n",
    "        usedFeatures = bestFeatures\n",
    "        print(f\"Best accuracy with {len(usedFeatures)} features ({usedFeatures}) was {bestAccuracy:.2%}\")\n",
    "        accuracies.append(bestAccuracy)\n",
    "    print(f\"Accuracies were {accuracies}\")"
   ]
  },
  {
   "cell_type": "code",
   "execution_count": 7,
   "id": "a5fff374-b042-4f22-a854-a8d570586561",
   "metadata": {},
   "outputs": [],
   "source": [
    "def randomRestartsBackwardSelection(data):\n",
    "    potentialFeatures = list(range(1,len(data[0])))\n",
    "    numRestarts = 10\n",
    "    numStartingFeatures = 10\n",
    "    overallBestAccuracy = -1\n",
    "    overallBestFeatures = []\n",
    "    for restart in range(10):\n",
    "        featureSubset = sample(potentialFeatures,numStartingFeatures)\n",
    "        print(f\"Running restart {restart} of {numRestarts} with feature subset {featureSubset}\")\n",
    "        restartBestFeatures = []\n",
    "        restartBestAccuracy = -1\n",
    "        while len(featureSubset) > 1:\n",
    "            bestFeatures = []\n",
    "            bestAccuracy = -1\n",
    "            for feature in featureSubset:\n",
    "                newSubset = featureSubset.copy()\n",
    "                newSubset.remove(feature)\n",
    "                accuracy = leaveOneOut(data,newSubset)\n",
    "                print(f\"\\tAccuracy using {newSubset} was {accuracy:.2%}\")\n",
    "                if accuracy > bestAccuracy:\n",
    "                    bestAccuracy = accuracy\n",
    "                    bestFeatures = newSubset\n",
    "            featureSubset = bestFeatures\n",
    "            print(f\"Best accuracy with {len(featureSubset)} features ({featureSubset}) was {bestAccuracy:.2%}\")\n",
    "            if bestAccuracy > restartBestAccuracy:\n",
    "                restartBestAccuracy = bestAccuracy\n",
    "                restartBestFeatures = bestFeatures\n",
    "        print(f\"Best accuracy of restart {restart} was {restartBestAccuracy:.2%} with features {restartBestFeatures}\")\n",
    "        if restartBestAccuracy > overallBestAccuracy:\n",
    "            overallBestAccuracy = restartBestAccuracy\n",
    "            overallBestFeatures = restartBestFeatures\n",
    "        \n",
    "            "
   ]
  },
  {
   "cell_type": "code",
   "execution_count": 10,
   "id": "16607fa6-213a-4b8f-b52b-add6d240d159",
   "metadata": {},
   "outputs": [
    {
     "name": "stdout",
     "output_type": "stream",
     "text": [
      "\tAccuracy using [1] was 71.40%\n",
      "\tAccuracy using [2] was 65.60%\n",
      "\tAccuracy using [3] was 68.20%\n",
      "\tAccuracy using [4] was 83.00%\n",
      "\tAccuracy using [5] was 69.20%\n",
      "\tAccuracy using [6] was 73.00%\n",
      "Best accuracy with 1 features ([4]) was 83.00%\n",
      "\tAccuracy using [4, 1] was 86.20%\n",
      "\tAccuracy using [4, 2] was 84.60%\n",
      "\tAccuracy using [4, 3] was 83.40%\n",
      "\tAccuracy using [4, 5] was 86.80%\n",
      "\tAccuracy using [4, 6] was 97.60%\n",
      "Best accuracy with 2 features ([4, 6]) was 97.60%\n",
      "\tAccuracy using [4, 6, 1] was 92.40%\n",
      "\tAccuracy using [4, 6, 2] was 91.20%\n",
      "\tAccuracy using [4, 6, 3] was 93.80%\n",
      "\tAccuracy using [4, 6, 5] was 93.60%\n",
      "Best accuracy with 3 features ([4, 6, 3]) was 93.80%\n",
      "\tAccuracy using [4, 6, 3, 1] was 90.60%\n",
      "\tAccuracy using [4, 6, 3, 2] was 88.00%\n",
      "\tAccuracy using [4, 6, 3, 5] was 88.20%\n",
      "Best accuracy with 4 features ([4, 6, 3, 1]) was 90.60%\n",
      "\tAccuracy using [4, 6, 3, 1, 2] was 84.00%\n",
      "\tAccuracy using [4, 6, 3, 1, 5] was 83.40%\n",
      "Best accuracy with 5 features ([4, 6, 3, 1, 2]) was 84.00%\n",
      "\tAccuracy using [4, 6, 3, 1, 2, 5] was 81.20%\n",
      "Best accuracy with 6 features ([4, 6, 3, 1, 2, 5]) was 81.20%\n",
      "Accuracies were [0.83, 0.976, 0.938, 0.906, 0.84, 0.812]\n",
      "Best accuracy with 6 features ([1, 2, 3, 4, 5, 6]) was 81.20%\n",
      "\tAccuracy using [2, 3, 4, 5, 6] was 87.00%\n",
      "\tAccuracy using [1, 3, 4, 5, 6] was 83.40%\n",
      "\tAccuracy using [1, 2, 4, 5, 6] was 87.60%\n",
      "\tAccuracy using [1, 2, 3, 5, 6] was 68.20%\n",
      "\tAccuracy using [1, 2, 3, 4, 6] was 84.00%\n",
      "\tAccuracy using [1, 2, 3, 4, 5] was 75.40%\n",
      "Best accuracy with 5 features ([1, 2, 4, 5, 6]) was 87.60%\n",
      "\tAccuracy using [2, 4, 5, 6] was 89.60%\n",
      "\tAccuracy using [1, 4, 5, 6] was 91.80%\n",
      "\tAccuracy using [1, 2, 5, 6] was 72.20%\n",
      "\tAccuracy using [1, 2, 4, 6] was 89.20%\n",
      "\tAccuracy using [1, 2, 4, 5] was 82.60%\n",
      "Best accuracy with 4 features ([1, 4, 5, 6]) was 91.80%\n",
      "\tAccuracy using [4, 5, 6] was 93.60%\n",
      "\tAccuracy using [1, 5, 6] was 72.60%\n",
      "\tAccuracy using [1, 4, 6] was 92.40%\n",
      "\tAccuracy using [1, 4, 5] was 85.40%\n",
      "Best accuracy with 3 features ([4, 5, 6]) was 93.60%\n",
      "\tAccuracy using [5, 6] was 74.20%\n",
      "\tAccuracy using [4, 6] was 97.60%\n",
      "\tAccuracy using [4, 5] was 86.80%\n",
      "Best accuracy with 2 features ([4, 6]) was 97.60%\n",
      "\tAccuracy using [6] was 73.00%\n",
      "\tAccuracy using [4] was 83.00%\n",
      "Best accuracy with 1 features ([4]) was 83.00%\n",
      "Accuracies were [0.876, 0.918, 0.936, 0.976, 0.83]\n"
     ]
    }
   ],
   "source": [
    "forwardSelection(loadData(\"CS170_Small_Data__61.txt\"))\n",
    "backwardSelection(loadData(\"CS170_Small_Data__61.txt\"))"
   ]
  },
  {
   "cell_type": "code",
   "execution_count": 11,
   "id": "25adfe12-c31f-42cf-8014-7ee0c6092481",
   "metadata": {},
   "outputs": [],
   "source": [
    "smallForwardSelectionAccuracies = [0.83, 0.976, 0.938, 0.906, 0.84, 0.812]\n",
    "smallBackwardSelectionAccuracies = [0.876, 0.918, 0.936, 0.976, 0.83]"
   ]
  },
  {
   "cell_type": "code",
   "execution_count": null,
   "id": "48a2878c-a286-4d9d-aabd-39bd2134c925",
   "metadata": {},
   "outputs": [],
   "source": []
  }
 ],
 "metadata": {
  "kernelspec": {
   "display_name": "Python 3 (ipykernel)",
   "language": "python",
   "name": "python3"
  },
  "language_info": {
   "codemirror_mode": {
    "name": "ipython",
    "version": 3
   },
   "file_extension": ".py",
   "mimetype": "text/x-python",
   "name": "python",
   "nbconvert_exporter": "python",
   "pygments_lexer": "ipython3",
   "version": "3.10.6"
  }
 },
 "nbformat": 4,
 "nbformat_minor": 5
}
