{
 "cells": [
  {
   "cell_type": "code",
   "execution_count": 31,
   "id": "04c93202-d0b2-493f-995e-768746702587",
   "metadata": {},
   "outputs": [],
   "source": [
    "import numpy as np\n",
    "def loadData(fileName):\n",
    "    return np.loadtxt(fileName, dtype=float)"
   ]
  },
  {
   "cell_type": "code",
   "execution_count": 35,
   "id": "aff74422-a217-47f4-b441-7711f1d26c97",
   "metadata": {},
   "outputs": [],
   "source": [
    "data = loadData(\"CS170_Small_Data__123.txt\")"
   ]
  },
  {
   "cell_type": "code",
   "execution_count": 87,
   "id": "6a3f71fa-5565-4be2-b11f-f1b143097873",
   "metadata": {},
   "outputs": [],
   "source": [
    "def nearestNeighbor(data,instance,features):\n",
    "    restrictedData = data[:,features]\n",
    "    restrictedInstance = instance[features]\n",
    "    df = restrictedData[0]-restrictedInstance\n",
    "    minDistance = np.dot(df,df)\n",
    "    minIndex = 0\n",
    "    for [index, row] in enumerate(restrictedData):\n",
    "        if not np.array_equal(row, restrictedInstance):\n",
    "            df = row-restrictedInstance\n",
    "            distance = np.dot(df,df)\n",
    "            if distance < minDistance:\n",
    "                minDistance = distance\n",
    "                minIndex = index\n",
    "    return data[minIndex][0]"
   ]
  },
  {
   "cell_type": "code",
   "execution_count": 93,
   "id": "f31d1fe5-7fb8-4255-bbe1-7362f55c6a90",
   "metadata": {},
   "outputs": [],
   "source": [
    "def leaveOneOut(data, features):\n",
    "    correct = 0\n",
    "    total = 0\n",
    "    for row in data:\n",
    "        total = total+1\n",
    "        if row[0] == nearestNeighbor(data,row,features):\n",
    "            correct = correct+1\n",
    "    return correct/total"
   ]
  },
  {
   "cell_type": "code",
   "execution_count": 137,
   "id": "ea7603cd-f1f5-486c-9dae-20b1a30dd95c",
   "metadata": {},
   "outputs": [],
   "source": [
    "def forwardSelection(data):\n",
    "    features = list(range(1,len(data[0])))\n",
    "    usedFeatures = []\n",
    "    while len(usedFeatures) < len(features):\n",
    "        bestAccuracy = -1\n",
    "        bestFeature = -1\n",
    "        for feature in features:\n",
    "            if feature not in usedFeatures:\n",
    "                newFeatures = usedFeatures.copy()\n",
    "                newFeatures.append(feature)\n",
    "                accuracy = leaveOneOut(data,newFeatures)\n",
    "                print(f\"\\tAccuracy using {newFeatures} was {accuracy:.2%}\")\n",
    "                if accuracy > bestAccuracy:\n",
    "                    bestAccuracy = accuracy\n",
    "                    bestFeature = feature\n",
    "        usedFeatures.append(bestFeature)\n",
    "        print(f\"Best accuracy with {len(usedFeatures)} features ({usedFeatures}) was {bestAccuracy:.2%}\")"
   ]
  },
  {
   "cell_type": "code",
   "execution_count": 139,
   "id": "0701e1a2-785d-4eeb-b217-0d92015b4597",
   "metadata": {},
   "outputs": [],
   "source": [
    "def backwardsSelection(data):\n",
    "    usedFeatures = list(range(1,len(data[0])))\n",
    "    print(f\"Best accuracy with {len(usedFeatures)} features ({usedFeatures}) was {leaveOneOut(data,usedFeatures):.2%}\")\n",
    "    while len(usedFeatures) > 1:\n",
    "        bestAccuracy = -1\n",
    "        bestFeatures = []\n",
    "        for feature in usedFeatures:\n",
    "            newFeatures = usedFeatures.copy()\n",
    "            newFeatures.remove(feature)\n",
    "            accuracy = leaveOneOut(data,newFeatures)\n",
    "            print(f\"\\tAccuracy using {newFeatures} was {accuracy:.2%}\")\n",
    "            if accuracy > bestAccuracy:\n",
    "                bestAccuracy = accuracy\n",
    "                bestFeatures = newFeatures\n",
    "        usedFeatures = bestFeatures\n",
    "        print(f\"Best accuracy with {len(usedFeatures)} features ({usedFeatures}) was {bestAccuracy:.2%}\")"
   ]
  },
  {
   "cell_type": "code",
   "execution_count": 140,
   "id": "ca5a4a30-87bf-4ae8-8376-e4e0c6f97c5d",
   "metadata": {},
   "outputs": [
    {
     "name": "stdout",
     "output_type": "stream",
     "text": [
      "Best accuracy with 6 features ([1, 2, 3, 4, 5, 6]) was 81.60%\n",
      "\tAccuracy using [2, 3, 4, 5, 6] was 72.60%\n",
      "\tAccuracy using [1, 3, 4, 5, 6] was 85.40%\n",
      "\tAccuracy using [1, 2, 4, 5, 6] was 81.00%\n",
      "\tAccuracy using [1, 2, 3, 5, 6] was 77.20%\n",
      "\tAccuracy using [1, 2, 3, 4, 6] was 83.20%\n",
      "\tAccuracy using [1, 2, 3, 4, 5] was 84.60%\n",
      "Best accuracy with 5 features ([1, 3, 4, 5, 6]) was 85.40%\n",
      "\tAccuracy using [3, 4, 5, 6] was 72.80%\n",
      "\tAccuracy using [1, 4, 5, 6] was 88.60%\n",
      "\tAccuracy using [1, 3, 5, 6] was 80.00%\n",
      "\tAccuracy using [1, 3, 4, 6] was 87.00%\n",
      "\tAccuracy using [1, 3, 4, 5] was 88.20%\n",
      "Best accuracy with 4 features ([1, 4, 5, 6]) was 88.60%\n",
      "\tAccuracy using [4, 5, 6] was 72.40%\n",
      "\tAccuracy using [1, 5, 6] was 81.20%\n",
      "\tAccuracy using [1, 4, 6] was 91.40%\n",
      "\tAccuracy using [1, 4, 5] was 92.20%\n",
      "Best accuracy with 3 features ([1, 4, 5]) was 92.20%\n",
      "\tAccuracy using [4, 5] was 75.60%\n",
      "\tAccuracy using [1, 5] was 84.60%\n",
      "\tAccuracy using [1, 4] was 96.80%\n",
      "Best accuracy with 2 features ([1, 4]) was 96.80%\n",
      "\tAccuracy using [4] was 74.00%\n",
      "\tAccuracy using [1] was 83.00%\n",
      "Best accuracy with 1 features ([1]) was 83.00%\n"
     ]
    }
   ],
   "source": [
    "backwardsSelection(data)"
   ]
  },
  {
   "cell_type": "code",
   "execution_count": 142,
   "id": "55611db8-11d3-475a-8f78-b6ec3b40e5b3",
   "metadata": {},
   "outputs": [
    {
     "name": "stdout",
     "output_type": "stream",
     "text": [
      "\tAccuracy using [1] was 83.00%\n",
      "\tAccuracy using [2] was 66.20%\n",
      "\tAccuracy using [3] was 65.20%\n",
      "\tAccuracy using [4] was 74.00%\n",
      "\tAccuracy using [5] was 66.20%\n",
      "\tAccuracy using [6] was 65.60%\n",
      "Best accuracy with 1 features ([1]) was 83.00%\n",
      "\tAccuracy using [1, 2] was 84.20%\n",
      "\tAccuracy using [1, 3] was 83.80%\n",
      "\tAccuracy using [1, 4] was 96.80%\n",
      "\tAccuracy using [1, 5] was 84.60%\n",
      "\tAccuracy using [1, 6] was 80.40%\n",
      "Best accuracy with 2 features ([1, 4]) was 96.80%\n",
      "\tAccuracy using [1, 4, 2] was 90.40%\n",
      "\tAccuracy using [1, 4, 3] was 92.60%\n",
      "\tAccuracy using [1, 4, 5] was 92.20%\n",
      "\tAccuracy using [1, 4, 6] was 91.40%\n",
      "Best accuracy with 3 features ([1, 4, 3]) was 92.60%\n",
      "\tAccuracy using [1, 4, 3, 2] was 87.60%\n",
      "\tAccuracy using [1, 4, 3, 5] was 88.20%\n",
      "\tAccuracy using [1, 4, 3, 6] was 87.00%\n",
      "Best accuracy with 4 features ([1, 4, 3, 5]) was 88.20%\n",
      "\tAccuracy using [1, 4, 3, 5, 2] was 84.60%\n",
      "\tAccuracy using [1, 4, 3, 5, 6] was 85.40%\n",
      "Best accuracy with 5 features ([1, 4, 3, 5, 6]) was 85.40%\n",
      "\tAccuracy using [1, 4, 3, 5, 6, 2] was 81.60%\n",
      "Best accuracy with 6 features ([1, 4, 3, 5, 6, 2]) was 81.60%\n"
     ]
    }
   ],
   "source": [
    "forwardSelection(data)"
   ]
  },
  {
   "cell_type": "code",
   "execution_count": null,
   "id": "a5fff374-b042-4f22-a854-a8d570586561",
   "metadata": {},
   "outputs": [],
   "source": []
  }
 ],
 "metadata": {
  "kernelspec": {
   "display_name": "Python 3 (ipykernel)",
   "language": "python",
   "name": "python3"
  },
  "language_info": {
   "codemirror_mode": {
    "name": "ipython",
    "version": 3
   },
   "file_extension": ".py",
   "mimetype": "text/x-python",
   "name": "python",
   "nbconvert_exporter": "python",
   "pygments_lexer": "ipython3",
   "version": "3.10.6"
  }
 },
 "nbformat": 4,
 "nbformat_minor": 5
}
