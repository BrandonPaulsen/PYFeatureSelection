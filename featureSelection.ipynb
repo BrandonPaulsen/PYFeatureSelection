{
 "cells": [
  {
   "cell_type": "code",
   "execution_count": 18,
   "id": "456b2d8d-f171-4de0-8fdf-87909386f8d9",
   "metadata": {},
   "outputs": [],
   "source": [
    "import pandas as pd\n",
    "def loadData(fileName):\n",
    "    data = pd.read_csv(fileName, sep = \"\\s+\", header=None)\n",
    "    data.rename(columns={0:\"Label\"}, inplace = True)\n",
    "    return data"
   ]
  },
  {
   "cell_type": "code",
   "execution_count": 19,
   "id": "dce8fd85-e3ac-4939-ad4f-5ee14965a645",
   "metadata": {},
   "outputs": [],
   "source": [
    "test = loadData(\"CS170_Small_Data__123.txt\")"
   ]
  },
  {
   "cell_type": "code",
   "execution_count": 20,
   "id": "04c93202-d0b2-493f-995e-768746702587",
   "metadata": {},
   "outputs": [
    {
     "name": "stdout",
     "output_type": "stream",
     "text": [
      "     Label         1         2         3         4         5         6\n",
      "0      2.0  1.163265 -0.561374 -0.912560 -1.343353 -0.800968 -1.330322\n",
      "1      2.0 -0.631305  0.151174  0.029166 -1.101021 -1.340618 -0.019371\n",
      "2      2.0  1.145001  0.432997 -0.015647  0.516868 -0.416977  0.668353\n",
      "3      2.0 -0.755111 -0.555522 -0.260548  2.268465  0.152505  1.342829\n",
      "4      2.0 -0.239221  0.368848  1.393854  1.111334 -0.370610  0.276405\n",
      "..     ...       ...       ...       ...       ...       ...       ...\n",
      "495    2.0 -0.011867  0.118187  0.241922 -0.684422 -0.084362 -0.301205\n",
      "496    1.0  0.608442  0.786269  1.112353 -0.513740  0.634220  0.261547\n",
      "497    2.0  0.561782  0.460562 -0.181600 -2.710969  0.576953  0.710279\n",
      "498    2.0  0.671677 -0.187284  1.314478  0.424190  2.199934  0.510936\n",
      "499    1.0  0.477826  1.636858 -1.153878  0.295208 -0.266790 -1.146395\n",
      "\n",
      "[500 rows x 7 columns]\n"
     ]
    }
   ],
   "source": [
    "print(test)\n"
   ]
  }
 ],
 "metadata": {
  "kernelspec": {
   "display_name": "Python 3 (ipykernel)",
   "language": "python",
   "name": "python3"
  },
  "language_info": {
   "codemirror_mode": {
    "name": "ipython",
    "version": 3
   },
   "file_extension": ".py",
   "mimetype": "text/x-python",
   "name": "python",
   "nbconvert_exporter": "python",
   "pygments_lexer": "ipython3",
   "version": "3.10.6"
  }
 },
 "nbformat": 4,
 "nbformat_minor": 5
}
