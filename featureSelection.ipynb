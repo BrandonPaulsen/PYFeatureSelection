{
 "cells": [
  {
   "cell_type": "code",
   "execution_count": 31,
   "id": "04c93202-d0b2-493f-995e-768746702587",
   "metadata": {},
   "outputs": [],
   "source": [
    "import numpy as np\n",
    "def loadData(fileName):\n",
    "    return np.loadtxt(fileName, dtype=float)"
   ]
  },
  {
   "cell_type": "code",
   "execution_count": 35,
   "id": "aff74422-a217-47f4-b441-7711f1d26c97",
   "metadata": {},
   "outputs": [],
   "source": [
    "data = loadData(\"CS170_Small_Data__123.txt\")"
   ]
  },
  {
   "cell_type": "code",
   "execution_count": null,
   "id": "6a3f71fa-5565-4be2-b11f-f1b143097873",
   "metadata": {},
   "outputs": [],
   "source": []
  }
 ],
 "metadata": {
  "kernelspec": {
   "display_name": "Python 3 (ipykernel)",
   "language": "python",
   "name": "python3"
  },
  "language_info": {
   "codemirror_mode": {
    "name": "ipython",
    "version": 3
   },
   "file_extension": ".py",
   "mimetype": "text/x-python",
   "name": "python",
   "nbconvert_exporter": "python",
   "pygments_lexer": "ipython3",
   "version": "3.10.6"
  }
 },
 "nbformat": 4,
 "nbformat_minor": 5
}
